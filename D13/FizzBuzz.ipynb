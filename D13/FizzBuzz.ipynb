{
 "cells": [
  {
   "cell_type": "code",
   "execution_count": 1,
   "id": "6d7bdefc",
   "metadata": {},
   "outputs": [
    {
     "name": "stdout",
     "output_type": "stream",
     "text": [
      "Nhập số nguyên a: 15\n",
      "Nhập số nguyên b: 45\n",
      "15\n",
      "FizzBuzz\n",
      "16\n",
      "Không có số chia hết cho 3 và 5\n",
      "17\n",
      "Không có số chia hết cho 3 và 5\n",
      "18\n",
      "Fizz\n",
      "19\n",
      "Không có số chia hết cho 3 và 5\n",
      "20\n",
      "Buzz\n",
      "21\n",
      "Fizz\n",
      "22\n",
      "Không có số chia hết cho 3 và 5\n",
      "23\n",
      "Không có số chia hết cho 3 và 5\n",
      "24\n",
      "Fizz\n",
      "25\n",
      "Buzz\n",
      "26\n",
      "Không có số chia hết cho 3 và 5\n",
      "27\n",
      "Fizz\n",
      "28\n",
      "Không có số chia hết cho 3 và 5\n",
      "29\n",
      "Không có số chia hết cho 3 và 5\n",
      "30\n",
      "FizzBuzz\n",
      "31\n",
      "Không có số chia hết cho 3 và 5\n",
      "32\n",
      "Không có số chia hết cho 3 và 5\n",
      "33\n",
      "Fizz\n",
      "34\n",
      "Không có số chia hết cho 3 và 5\n",
      "35\n",
      "Buzz\n",
      "36\n",
      "Fizz\n",
      "37\n",
      "Không có số chia hết cho 3 và 5\n",
      "38\n",
      "Không có số chia hết cho 3 và 5\n",
      "39\n",
      "Fizz\n",
      "40\n",
      "Buzz\n",
      "41\n",
      "Không có số chia hết cho 3 và 5\n",
      "42\n",
      "Fizz\n",
      "43\n",
      "Không có số chia hết cho 3 và 5\n",
      "44\n",
      "Không có số chia hết cho 3 và 5\n",
      "45\n",
      "FizzBuzz\n"
     ]
    }
   ],
   "source": [
    "a = int(input(\"Nhập số nguyên a: \"))\n",
    "b = int(input(\"Nhập số nguyên b: \"))\n",
    "for i in range(a,b+1):\n",
    "    print(i)\n",
    "    if (i % 3 == 0 and i % 5 == 0):\n",
    "        print(\"FizzBuzz\")\n",
    "    elif i % 3 == 0:\n",
    "        print(\"Fizz\")\n",
    "    elif i % 5 == 0:\n",
    "        print(\"Buzz\")\n",
    "    else:\n",
    "        print(\"Không có số chia hết cho 3 và 5\")"
   ]
  },
  {
   "cell_type": "code",
   "execution_count": null,
   "id": "b75b9666",
   "metadata": {},
   "outputs": [],
   "source": []
  }
 ],
 "metadata": {
  "kernelspec": {
   "display_name": "Python 3 (ipykernel)",
   "language": "python",
   "name": "python3"
  },
  "language_info": {
   "codemirror_mode": {
    "name": "ipython",
    "version": 3
   },
   "file_extension": ".py",
   "mimetype": "text/x-python",
   "name": "python",
   "nbconvert_exporter": "python",
   "pygments_lexer": "ipython3",
   "version": "3.9.12"
  }
 },
 "nbformat": 4,
 "nbformat_minor": 5
}
