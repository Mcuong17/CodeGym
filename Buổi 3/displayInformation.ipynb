{
 "cells": [
  {
   "cell_type": "code",
   "execution_count": 5,
   "id": "e1e5cc84",
   "metadata": {},
   "outputs": [
    {
     "name": "stdout",
     "output_type": "stream",
     "text": [
      "Họ và tên  Đàm Mạnh Cường\n",
      "Tuổi  22\n",
      "Quê quán  Hưng Yên\n",
      "Nghề nghiệp  Bartistar\n",
      "Sở thích  Music,running,learn data\n"
     ]
    }
   ],
   "source": [
    "name = \"Đàm Mạnh Cường\"\n",
    "age = \"22\"\n",
    "location = \"Hưng Yên\"\n",
    "job = \"Bartistar\"\n",
    "hobby = \"Music,running,learn data\"\n",
    "print(\"Họ và tên \",name)\n",
    "print(\"Tuổi \",age)\n",
    "print(\"Quê quán \",location)\n",
    "print(\"Nghề nghiệp \",job)\n",
    "print(\"Sở thích \",hobby)"
   ]
  }
 ],
 "metadata": {
  "kernelspec": {
   "display_name": "Python 3 (ipykernel)",
   "language": "python",
   "name": "python3"
  },
  "language_info": {
   "codemirror_mode": {
    "name": "ipython",
    "version": 3
   },
   "file_extension": ".py",
   "mimetype": "text/x-python",
   "name": "python",
   "nbconvert_exporter": "python",
   "pygments_lexer": "ipython3",
   "version": "3.9.12"
  }
 },
 "nbformat": 4,
 "nbformat_minor": 5
}
