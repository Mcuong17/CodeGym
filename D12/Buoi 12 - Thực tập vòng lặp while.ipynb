{
 "cells": [
  {
   "cell_type": "markdown",
   "id": "1f7be993",
   "metadata": {},
   "source": [
    "# Thực tập vòng lặp While\n",
    "\n",
    "### Bài 1\n",
    "\n",
    "Nhập vào số a, sử dụng lệnh while (không sử dụng break và for) để xác định xem số đó có phải là số nguyên tố hay không"
   ]
  },
  {
   "cell_type": "code",
   "execution_count": null,
   "id": "8cb73965",
   "metadata": {},
   "outputs": [],
   "source": [
    "a = int(input(\"Nhap a: \"))\n",
    "i = 1\n",
    "dem = 0## đếm ước nếu ước = 2 thì là số nguyên tố, ngược lại...\n",
    "while i <= a:\n",
    "    if a % i == 0:\n",
    "        dem += 1\n",
    "    i += 1\n",
    "if demm == 2:\n",
    "    print(\"Đây là số nguyên tố\")\n",
    "else:\n",
    "    print(\"Không là số nguyên tố\")"
   ]
  },
  {
   "cell_type": "markdown",
   "id": "9f2357ca",
   "metadata": {},
   "source": [
    "### Bài 2\n",
    "\n",
    "Hãy sử dụng lệnh while lập trình cho bài đoán số ở buổi thứ 9"
   ]
  },
  {
   "cell_type": "code",
   "execution_count": null,
   "id": "db79cb9d",
   "metadata": {},
   "outputs": [],
   "source": []
  },
  {
   "cell_type": "markdown",
   "id": "58f5b789",
   "metadata": {},
   "source": [
    "### Bài 3\n",
    "\n",
    "Nhập vào số a, hãy đếm a có bao nhiêu chữ số chẵn, bao nhiêu cữ số lẻ\n",
    "\n",
    "#### Cách 1 (dùng chuỗi):"
   ]
  },
  {
   "cell_type": "code",
   "execution_count": 7,
   "id": "e7f9da21",
   "metadata": {},
   "outputs": [
    {
     "name": "stdout",
     "output_type": "stream",
     "text": [
      "Nhập số a: 345678\n",
      "Sc 3\n",
      "Sl 3\n"
     ]
    }
   ],
   "source": [
    "a = int(input(\"Nhập số a: \"))\n",
    "a = str(a)\n",
    "i = 0 \n",
    "sc = 0\n",
    "sl = 0\n",
    "while i < len(a):\n",
    "    if int(a[i]) %2 == 0:\n",
    "        sc += 1\n",
    "    else:\n",
    "        sl += 1\n",
    "    i += 1\n",
    "print(\"Sc\",sc)\n",
    "print(\"Sl\",sl)"
   ]
  },
  {
   "cell_type": "code",
   "execution_count": null,
   "id": "5201ee28",
   "metadata": {},
   "outputs": [],
   "source": []
  },
  {
   "cell_type": "markdown",
   "id": "9a3d9703",
   "metadata": {},
   "source": [
    "#### Cách 2 (không dùng chuỗi):"
   ]
  },
  {
   "cell_type": "code",
   "execution_count": null,
   "id": "d4e474c8",
   "metadata": {},
   "outputs": [],
   "source": [
    "a = int(input(\"Nhập số a: \"))\n",
    "sc = 0\n",
    "sl = 0\n",
    "while a != 0:\n",
    "    chusocuoicung = a % 10\n",
    "    a = a// 10\n",
    "    if chusocuoicung % 2 == 0 and chusocuoicung != 0:\n",
    "        sc += 1\n",
    "    else:\n",
    "        sl += 1\n",
    "print(sc)\n",
    "print(sl)"
   ]
  },
  {
   "cell_type": "markdown",
   "id": "69539ece",
   "metadata": {},
   "source": [
    "### Bài 4\n",
    "\n",
    "Nhập vào số a, hãy tính tổng các chữ số nguyên tố của a"
   ]
  },
  {
   "cell_type": "code",
   "execution_count": 14,
   "id": "f001bd9a",
   "metadata": {},
   "outputs": [
    {
     "name": "stdout",
     "output_type": "stream",
     "text": [
      "Nhập số a: 453\n",
      "8\n"
     ]
    }
   ],
   "source": [
    "a = int(input(\"Nhập số a: \"))\n",
    "s = 0\n",
    "while a != 0:\n",
    "    chusocuoicung = a % 10\n",
    "    a = a// 10\n",
    "    if chusocuoicung == 2 or chusocuoicung == 3 or chusocuoicung == 5 or chusocuoicung == 7:\n",
    "       s += chusocuoicung\n",
    "print(s)"
   ]
  },
  {
   "cell_type": "markdown",
   "id": "0a5075a4",
   "metadata": {},
   "source": [
    "### Bài 5\n",
    "\n",
    "Số armstrong là số có tổng của các chữ số mũ số lượng chữ số bằng chính nó\n",
    "\n",
    "Ví dụ\n",
    "\n",
    "Số 371 là một số armstrong vì:\n",
    "\n",
    "371 = 3^3 + 7^3 + 1^3 (3 là số lượng chữ số của 371)\n",
    "\n",
    "Số 1634 là một số armstrong vì:\n",
    "\n",
    "1634 = 1^4 + 6^4 + 3^4 + 4^4 (4 là số lượng chữ số của 1634)\n",
    "\n",
    "Nhập vào số a, kiểm tra xem a có phải là số armstrong không"
   ]
  },
  {
   "cell_type": "code",
   "execution_count": null,
   "id": "b9ed54a5",
   "metadata": {},
   "outputs": [],
   "source": [
    "a=int(input(\"nhập a:\"))\n",
    "a0=a\n",
    "tong=0\n",
    "b=len(str(a))\n",
    "while a!=0:\n",
    "    c=a%10\n",
    "    a=a//10\n",
    "    tong+=c**int(b)\n",
    "a=a0\n",
    "if tong==a:\n",
    "    print(\"Đây là số armstrong \")\n",
    "else: \n",
    "    print(\"Đây ko là số armstrong \")"
   ]
  },
  {
   "cell_type": "markdown",
   "id": "f8a584d3",
   "metadata": {},
   "source": [
    "### Bài 6\n",
    "\n",
    "Dãy số fibonacci là dãy số được định nghĩa như sau: 1, 1, 2, 3, 5, 8, 13,... với số kế tiếp sẽ bằng tổng hai số trước đó\n",
    "\n",
    "Nhập vào A, hãy tìm số trong dãy số fibonacci lớn nhất nhưng không vượt quá A"
   ]
  },
  {
   "cell_type": "code",
   "execution_count": 17,
   "id": "3ad4d85b",
   "metadata": {},
   "outputs": [
    {
     "name": "stdout",
     "output_type": "stream",
     "text": [
      "Nhập số dương a: 13\n",
      "Số fibonaci lớn nhất nhưng không vượt quá a là: 8\n"
     ]
    }
   ],
   "source": [
    "a = int(input(\"Nhập số dương a: \"))\n",
    "while(a <= 0):\n",
    "    print(\"Bạn nhập sai quy định\")\n",
    "    a = int(input(\"Nhập số dương a: \"))\n",
    "fibo1 = 1\n",
    "fibo2 = 1\n",
    "while(fibo1 + fibo2 < a):\n",
    "    fibo3 = fibo1 + fibo2\n",
    "    fibo1 = fibo2\n",
    "    fibo2 = fibo3\n",
    "print(\"Số fibonaci lớn nhất nhưng không vượt quá a là:\",fibo3)\n"
   ]
  },
  {
   "cell_type": "markdown",
   "id": "9fa794f2",
   "metadata": {},
   "source": [
    "### Bài 7\n",
    "\n",
    "Nhập vào A, tìm n nhỏ nhất sao cho\n",
    "\n",
    "1 + 1/2 + 1/3 + 1/4 + ... + 1/n > A"
   ]
  },
  {
   "cell_type": "code",
   "execution_count": null,
   "id": "246ec002",
   "metadata": {},
   "outputs": [],
   "source": [
    "while True:\n",
    "    a = float(input('Nhập số a:'))\n",
    "    if a > 0:\n",
    "        print('Nhập đúng quy định')\n",
    "        break\n",
    "    print('Nhập sai quy định')\n",
    "\n",
    "b = 0\n",
    "S = 0\n",
    "while S < a:\n",
    "    b += 1\n",
    "    S += 1/b\n",
    "    \n",
    "print('Số n cần tìm là:',b)"
   ]
  },
  {
   "cell_type": "markdown",
   "id": "c5fd4d8a",
   "metadata": {},
   "source": [
    "### Bài 8\n",
    "\n",
    "Nhập vào a và b là số nguyên dương (b có một chữ số, nhập sai yêu cầu nhập lại), hãy tìm vị trí đầu tiên (bắt đầu từ bên trái) của b trong a, nếu không tìm thấy thì in kết quả là 0 (ví trí đầu bắt đầu từ 1)\n",
    "\n",
    "<b>Ví dụ:</b>\n",
    "\n",
    "<b>Nhập:</b>\n",
    "- a = 125785\n",
    "- b = 5\n",
    "\n",
    "<b>Kết quả:</b> 3 (do số 5 nằm ở vị trí 3)"
   ]
  },
  {
   "cell_type": "code",
   "execution_count": 20,
   "id": "9edf35ac",
   "metadata": {},
   "outputs": [
    {
     "name": "stdout",
     "output_type": "stream",
     "text": [
      "Nhập a: 3232\n",
      "Nhập a: 3\n",
      "0\n"
     ]
    }
   ],
   "source": [
    "while True:\n",
    "    a = int(input(\"Nhập a: \"))\n",
    "    b = int(input(\"Nhập a: \"))\n",
    "    if a > 0 and 0 < b <= 9:\n",
    "        break\n",
    "    else:\n",
    "        print(\"Yêu cầu nhập lại\")\n",
    "a = str(a)\n",
    "i = 0\n",
    "while i < len(a):\n",
    "    if a[i] == b:\n",
    "        print(i+1)\n",
    "        break\n",
    "    i += 1\n",
    "if i == len(a):\n",
    "    print(0)"
   ]
  },
  {
   "cell_type": "code",
   "execution_count": null,
   "id": "61a547bd",
   "metadata": {},
   "outputs": [],
   "source": []
  }
 ],
 "metadata": {
  "kernelspec": {
   "display_name": "Python 3 (ipykernel)",
   "language": "python",
   "name": "python3"
  },
  "language_info": {
   "codemirror_mode": {
    "name": "ipython",
    "version": 3
   },
   "file_extension": ".py",
   "mimetype": "text/x-python",
   "name": "python",
   "nbconvert_exporter": "python",
   "pygments_lexer": "ipython3",
   "version": "3.9.12"
  }
 },
 "nbformat": 4,
 "nbformat_minor": 5
}
