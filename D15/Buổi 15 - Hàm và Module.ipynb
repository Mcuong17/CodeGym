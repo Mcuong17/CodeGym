{
 "cells": [
  {
   "cell_type": "markdown",
   "id": "73456e5e",
   "metadata": {},
   "source": [
    "# Hàm\n",
    "\n",
    "### Hàm\n",
    "\n",
    "Cú pháp:\n",
    "\n",
    "`def <tên hàm>(<tham số)>:\n",
    "    //Nội dung hàm`\n",
    "\n",
    "Gọi hàm:\n",
    "`<tên hàm>(<giá trị đầu vào>)`\n",
    "\n",
    "Ví dụ:\n",
    "\n",
    "Hãy viết 1 hàm số để tính tổng 2 số đầu vào và in nó ra màn hình"
   ]
  },
  {
   "cell_type": "code",
   "execution_count": 6,
   "id": "af5b9f6d",
   "metadata": {},
   "outputs": [
    {
     "name": "stdout",
     "output_type": "stream",
     "text": [
      "Hello\n",
      "Hello\n",
      "hi\n"
     ]
    }
   ],
   "source": [
    "def demo(): ## khi khởi tạo hàm thì các lệnh chưa được thực hiện\n",
    "    print(\"Hello\")\n",
    "    print(\"Hello\")\n",
    "    print(\"hi\")\n",
    "\n",
    "# chương trình chính\n",
    "demo()"
   ]
  },
  {
   "cell_type": "code",
   "execution_count": 8,
   "id": "794a91cf",
   "metadata": {},
   "outputs": [
    {
     "name": "stdout",
     "output_type": "stream",
     "text": [
      "7\n"
     ]
    }
   ],
   "source": [
    "b = -7\n",
    "a = abs(b)\n",
    "print(a)"
   ]
  },
  {
   "cell_type": "code",
   "execution_count": 10,
   "id": "3eef217b",
   "metadata": {},
   "outputs": [
    {
     "name": "stdout",
     "output_type": "stream",
     "text": [
      "49\n",
      "144\n"
     ]
    }
   ],
   "source": [
    "def mu2(a):\n",
    "    print(a**2)\n",
    "    \n",
    "mu2(7)\n",
    "mu2(12)"
   ]
  },
  {
   "cell_type": "code",
   "execution_count": 11,
   "id": "183caa6e",
   "metadata": {},
   "outputs": [
    {
     "name": "stdout",
     "output_type": "stream",
     "text": [
      "8\n",
      "22\n",
      "25\n"
     ]
    }
   ],
   "source": [
    "def tong(a,b):\n",
    "    print(a+b)\n",
    "    \n",
    "tong(3,5)\n",
    "tong(10,12)\n",
    "tong(15,10)\n",
    "    "
   ]
  },
  {
   "cell_type": "code",
   "execution_count": 15,
   "id": "2784b9ff",
   "metadata": {
    "scrolled": true
   },
   "outputs": [
    {
     "ename": "TypeError",
     "evalue": "unsupported operand type(s) for -: 'str' and 'int'",
     "output_type": "error",
     "traceback": [
      "\u001b[1;31m---------------------------------------------------------------------------\u001b[0m",
      "\u001b[1;31mTypeError\u001b[0m                                 Traceback (most recent call last)",
      "Input \u001b[1;32mIn [15]\u001b[0m, in \u001b[0;36m<cell line: 8>\u001b[1;34m()\u001b[0m\n\u001b[0;32m      5\u001b[0m \u001b[38;5;28;01mdef\u001b[39;00m \u001b[38;5;21mtich\u001b[39m(a,b):\n\u001b[0;32m      6\u001b[0m     \u001b[38;5;28mprint\u001b[39m(a\u001b[38;5;241m*\u001b[39mb)\n\u001b[1;32m----> 8\u001b[0m \u001b[43mhieu\u001b[49m\u001b[43m(\u001b[49m\u001b[38;5;124;43m\"\u001b[39;49m\u001b[38;5;124;43mhi\u001b[39;49m\u001b[38;5;124;43m\"\u001b[39;49m\u001b[43m,\u001b[49m\u001b[38;5;241;43m2\u001b[39;49m\u001b[43m)\u001b[49m\n\u001b[0;32m      9\u001b[0m thuong(\u001b[38;5;241m10\u001b[39m,\u001b[38;5;241m5\u001b[39m)\n\u001b[0;32m     10\u001b[0m tich(\u001b[38;5;241m10\u001b[39m,\u001b[38;5;241m5\u001b[39m)\n",
      "Input \u001b[1;32mIn [15]\u001b[0m, in \u001b[0;36mhieu\u001b[1;34m(a, b)\u001b[0m\n\u001b[0;32m      1\u001b[0m \u001b[38;5;28;01mdef\u001b[39;00m \u001b[38;5;21mhieu\u001b[39m(a,b):\n\u001b[1;32m----> 2\u001b[0m     \u001b[38;5;28mprint\u001b[39m(\u001b[43ma\u001b[49m\u001b[38;5;241;43m-\u001b[39;49m\u001b[43mb\u001b[49m)\n",
      "\u001b[1;31mTypeError\u001b[0m: unsupported operand type(s) for -: 'str' and 'int'"
     ]
    }
   ],
   "source": [
    "def hieu(a,b):\n",
    "    print(a-b)\n",
    "def thuong(a,b):\n",
    "    print(a//b)\n",
    "def tich(a,b):\n",
    "    print(a*b)\n",
    "    \n",
    "hieu(\"hi\",2)\n",
    "thuong(10,5)\n",
    "tich(10,5)"
   ]
  },
  {
   "cell_type": "code",
   "execution_count": null,
   "id": "8b0efa3e",
   "metadata": {},
   "outputs": [],
   "source": [
    "def biendoi(a,b): ## a, b là biến local, có nghĩa là chỉ đc dùng trong hàm\n",
    "    a, b = b, a\n",
    "    print(\"In trong hàm:\",a,b)"
   ]
  },
  {
   "cell_type": "code",
   "execution_count": null,
   "id": "04ba47bd",
   "metadata": {},
   "outputs": [],
   "source": [
    "def biendoi(a,b):\n",
    "    c = 2 ## biến c được khai báo trong hàm --> biến local\n",
    "    print(\"Đây là biến trong hàm\")\n",
    "biendoi(2,6)\n",
    "print(c) ## lỗi"
   ]
  },
  {
   "cell_type": "code",
   "execution_count": 17,
   "id": "c37fb44b",
   "metadata": {},
   "outputs": [
    {
     "name": "stdout",
     "output_type": "stream",
     "text": [
      "Đây là biến trong hàm 2\n",
      "Đây là biến ngoài hàm 7\n"
     ]
    }
   ],
   "source": [
    "def biendoi(a,b):\n",
    "    c = 2 ## biến c được khai báo trong hàm --> biến local\n",
    "    print(\"Đây là biến trong hàm\",c)\n",
    "c = 7\n",
    "biendoi(2,6)\n",
    "print(\"Đây là biến ngoài hàm\",c) ## lỗi"
   ]
  },
  {
   "cell_type": "code",
   "execution_count": null,
   "id": "022ae023",
   "metadata": {},
   "outputs": [],
   "source": [
    "## khai báo một biến c local\n",
    "## viết hàm thay đổi giá trị biến c global đó\n",
    "\n",
    "def thaydoicbang2():\n",
    "    global c ## không khai báo một biến mới khi ta thực hiện một lệnh gán\n",
    "    c = 2 ## gán giá trị mới cho biến c global\n",
    "def thay doi(a):\n",
    "    global c \n",
    "    c = a\n",
    "c = 7\n",
    "thaydoi(8)\n",
    "print(c)"
   ]
  },
  {
   "cell_type": "code",
   "execution_count": null,
   "id": "6bf4ca51",
   "metadata": {},
   "outputs": [],
   "source": [
    "def demo(a):\n",
    "    a = 7\n",
    "b = 10\n",
    "demo(b)\n",
    "print(b)"
   ]
  },
  {
   "cell_type": "markdown",
   "id": "a7c39f47",
   "metadata": {},
   "source": [
    "### Giá trị trả về của hàm\n",
    "\n",
    "# return\n",
    "\n",
    "Cú pháp:\n",
    "\n",
    "`retrun <giá trị trả về>`\n",
    "\n",
    "##### Lưu ý: Sau khi thực hiện lệnh return, chương trình sẽ thoát khỏi hàm ngay lập tức (những lệnh sau đó không được thực hiện)\n",
    "\n",
    "Ví dụ:\n",
    "\n",
    "Hãy viết 1 hàm trả về giá trị trung bình của 2 số bất kỳ"
   ]
  },
  {
   "cell_type": "code",
   "execution_count": null,
   "id": "0b527b95",
   "metadata": {},
   "outputs": [],
   "source": [
    "print(\"hi\") ## đây là 1 hàm không có giá trị\n",
    "a = abs(7) ## đây là một hàm có giá trị"
   ]
  },
  {
   "cell_type": "code",
   "execution_count": null,
   "id": "2ed750c7",
   "metadata": {},
   "outputs": [],
   "source": [
    "def trave2():\n",
    "    return 2 ## trả về 2\n",
    "    return 7\n"
   ]
  },
  {
   "cell_type": "code",
   "execution_count": 18,
   "id": "b920a3c2",
   "metadata": {},
   "outputs": [
    {
     "name": "stdout",
     "output_type": "stream",
     "text": [
      "4\n"
     ]
    }
   ],
   "source": [
    "def demo():\n",
    "    for i in range(10):\n",
    "       if i == 5:\n",
    "            return i - 1\n",
    "\n",
    "a = demo()\n",
    "print(a)"
   ]
  },
  {
   "cell_type": "code",
   "execution_count": 26,
   "id": "42fd87ff",
   "metadata": {},
   "outputs": [
    {
     "data": {
      "text/plain": [
       "1"
      ]
     },
     "execution_count": 26,
     "metadata": {},
     "output_type": "execute_result"
    }
   ],
   "source": [
    "def chanle(a):\n",
    "    if a %2 == 0: ## neesu x chẵn thì rt 2\n",
    "        return 2\n",
    "    return 1 ## nếu x là lẻ thì ta rt 1\n",
    "chanle(15)"
   ]
  },
  {
   "cell_type": "code",
   "execution_count": 27,
   "id": "b3e9ddf0",
   "metadata": {},
   "outputs": [
    {
     "data": {
      "text/plain": [
       "False"
      ]
     },
     "execution_count": 27,
     "metadata": {},
     "output_type": "execute_result"
    }
   ],
   "source": [
    "def giaithua100(x):\n",
    "    gt = 1\n",
    "    for i in range(gt,x+1):\n",
    "        gt = gt * i\n",
    "        if gt > 100:\n",
    "            return True\n",
    "        return False\n",
    "    \n",
    "giaithua100(3)\n"
   ]
  },
  {
   "cell_type": "markdown",
   "id": "1d7f8db0",
   "metadata": {},
   "source": [
    "### Bài tập"
   ]
  },
  {
   "cell_type": "markdown",
   "id": "75fb488b",
   "metadata": {},
   "source": [
    "Viết hàm kiểm tra số nguyên tố"
   ]
  },
  {
   "cell_type": "code",
   "execution_count": 28,
   "id": "63701bd7",
   "metadata": {},
   "outputs": [
    {
     "data": {
      "text/plain": [
       "1"
      ]
     },
     "execution_count": 28,
     "metadata": {},
     "output_type": "execute_result"
    }
   ],
   "source": [
    "def songuyento(a):\n",
    "    co = 1\n",
    "    if (a < 2):\n",
    "        co = 0\n",
    "        return co\n",
    "    for i in range(2,a):\n",
    "        if a % i == 0:\n",
    "            co = 0\n",
    "    return co\n",
    "            \n",
    "kiemtra = songuyento(a) \n",
    "if kiemtra == 1:\n",
    "    print(a,\"là số nguyên tố\")\n",
    "else:\n",
    "    print(a,\"Không là số nguyên tố\")\n"
   ]
  },
  {
   "cell_type": "markdown",
   "id": "221103cf",
   "metadata": {},
   "source": [
    "Nhập vào 3 điểm toán, lý, hóa\n",
    "\n",
    "Hãy viết hàm in điểm trung bung bình rồi tính điểm trung bình của toán lý, toán hóa, lý hóa và toán lý hóa"
   ]
  },
  {
   "cell_type": "code",
   "execution_count": 32,
   "id": "1ba1d8ae",
   "metadata": {},
   "outputs": [
    {
     "name": "stdout",
     "output_type": "stream",
     "text": [
      "Nhập điểm Toán: 3\n",
      "Nhập điểm Lý: 4\n",
      "Nhập điểm Hóa: 5\n",
      "Đtb của toán lý là: 3.5\n",
      "Đtb của toán hóa là: 4.0\n",
      "Đtb của hóa lý là: 4.5\n",
      "Đtb của toán lý hóa là: 4.0\n"
     ]
    }
   ],
   "source": [
    "def dtb3(toan,ly,hoa):\n",
    "    return (toan + ly + hoa)/3\n",
    "def dtb2(toan,ly):\n",
    "    return (toan +ly)/2\n",
    "    \n",
    "toan = float(input(\"Nhập điểm Toán: \"))\n",
    "ly = float(input(\"Nhập điểm Lý: \"))\n",
    "hoa = float(input(\"Nhập điểm Hóa: \"))\n",
    "print(\"Đtb của toán lý là:\",dtb2(toan,ly))\n",
    "print(\"Đtb của toán hóa là:\",dtb2(toan,hoa))\n",
    "print(\"Đtb của hóa lý là:\",dtb2(hoa,ly))\n",
    "print(\"Đtb của toán lý hóa là:\",dtb3(toan,ly,hoa))"
   ]
  },
  {
   "cell_type": "markdown",
   "id": "50f43307",
   "metadata": {},
   "source": [
    "Viết hàm đếm số lượng từ của một chuỗi đưa vào"
   ]
  },
  {
   "cell_type": "code",
   "execution_count": 41,
   "id": "be785b29",
   "metadata": {},
   "outputs": [
    {
     "name": "stdout",
     "output_type": "stream",
     "text": [
      "Nhập chuỗi: xin chào\n",
      "1\n"
     ]
    }
   ],
   "source": [
    "\n",
    "def demtu(a):\n",
    "    S = 0\n",
    "    for i in a:\n",
    "        if i == \" \":\n",
    "            S += 1\n",
    "        return (S+1)\n",
    "chuoi = input(\"Nhập chuỗi: \")\n",
    "print(demtu(chuoi))"
   ]
  },
  {
   "cell_type": "code",
   "execution_count": 40,
   "id": "9bd05f01",
   "metadata": {},
   "outputs": [
    {
     "name": "stdout",
     "output_type": "stream",
     "text": [
      "chuỗi: xin chào\n"
     ]
    },
    {
     "data": {
      "text/plain": [
       "2"
      ]
     },
     "execution_count": 40,
     "metadata": {},
     "output_type": "execute_result"
    }
   ],
   "source": [
    "def DemTu(a):\n",
    "    sp = 0\n",
    "    for i in a:\n",
    "        if i ==' ':\n",
    "            sp += 1\n",
    "    return sp+1\n",
    "DemTu(input('chuỗi: '))"
   ]
  },
  {
   "cell_type": "markdown",
   "id": "b4adef40",
   "metadata": {},
   "source": [
    "Viết một hàm vẽ hình tròn, một hàm vẽ hình vuông và một hàm vẽ hình tam giác đều (giá trị đầu vào là a)\n",
    "\n",
    "Tất cả hàm này, bắt đầu từ 1 vị trí, sau khi vẽ ra, con trỏ sẽ tiến tới vị trí tiếp theo, cách vì đầu một khoảng a + 10 theo chiều x từ trái sang"
   ]
  },
  {
   "cell_type": "code",
   "execution_count": null,
   "id": "e405d1d4",
   "metadata": {},
   "outputs": [],
   "source": []
  }
 ],
 "metadata": {
  "kernelspec": {
   "display_name": "Python 3 (ipykernel)",
   "language": "python",
   "name": "python3"
  },
  "language_info": {
   "codemirror_mode": {
    "name": "ipython",
    "version": 3
   },
   "file_extension": ".py",
   "mimetype": "text/x-python",
   "name": "python",
   "nbconvert_exporter": "python",
   "pygments_lexer": "ipython3",
   "version": "3.9.12"
  }
 },
 "nbformat": 4,
 "nbformat_minor": 5
}
