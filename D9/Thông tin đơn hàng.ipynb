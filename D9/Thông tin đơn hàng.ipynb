{
 "cells": [
  {
   "cell_type": "code",
   "execution_count": 9,
   "id": "371af1ec",
   "metadata": {},
   "outputs": [
    {
     "name": "stdout",
     "output_type": "stream",
     "text": [
      "Nhập số tiền đã chi tiêu: 1234\n",
      "Bạn được giảm 50$, số tiền cần trả là: 1184 $\n"
     ]
    }
   ],
   "source": [
    "donhang = int(input(\"Nhập số tiền đã chi tiêu: \"))\n",
    "tientra = 0\n",
    "if 0 < donhang <= 75:\n",
    "    tientra = donhang\n",
    "    print(\"Bạn chưa được giảm giá, số tiền cần trả là:\",tientra,\"$\")\n",
    "elif 75 < donhang <= 100:\n",
    "    tientra = donhang - 15\n",
    "    print(\"Bạn được giảm 15$, số tiền cần trả là:\",tientra,\"$\")\n",
    "elif 100 < donhang <= 150:\n",
    "    tientra = donhang - 25\n",
    "    print(\"Bạn được giảm 25$, số tiền cần trả là:\",tientra,\"$\")\n",
    "elif donhang > 150:\n",
    "    tientra = donhang - 50\n",
    "    print(\"Bạn được giảm 50$, số tiền cần trả là:\",tientra,\"$\")\n",
    "else:\n",
    "    print(\"Số tiền nhập chưa đúng\")"
   ]
  },
  {
   "cell_type": "code",
   "execution_count": null,
   "id": "47bd11f9",
   "metadata": {},
   "outputs": [],
   "source": []
  }
 ],
 "metadata": {
  "kernelspec": {
   "display_name": "Python 3 (ipykernel)",
   "language": "python",
   "name": "python3"
  },
  "language_info": {
   "codemirror_mode": {
    "name": "ipython",
    "version": 3
   },
   "file_extension": ".py",
   "mimetype": "text/x-python",
   "name": "python",
   "nbconvert_exporter": "python",
   "pygments_lexer": "ipython3",
   "version": "3.9.12"
  }
 },
 "nbformat": 4,
 "nbformat_minor": 5
}
