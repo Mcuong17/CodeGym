{
 "cells": [
  {
   "cell_type": "code",
   "execution_count": 3,
   "id": "6d031072",
   "metadata": {},
   "outputs": [
    {
     "name": "stdout",
     "output_type": "stream",
     "text": [
      "Nhập vào số a: 3\n",
      "3 là số lẻ\n"
     ]
    }
   ],
   "source": [
    "a = int(input(\"Nhập vào số a: \"))\n",
    "if a %2 == 0:\n",
    "    print(a,\"Là số chẵn\")\n",
    "else:\n",
    "    print(a,\"là số lẻ\")"
   ]
  },
  {
   "cell_type": "code",
   "execution_count": null,
   "id": "5d172f98",
   "metadata": {},
   "outputs": [],
   "source": []
  }
 ],
 "metadata": {
  "kernelspec": {
   "display_name": "Python 3 (ipykernel)",
   "language": "python",
   "name": "python3"
  },
  "language_info": {
   "codemirror_mode": {
    "name": "ipython",
    "version": 3
   },
   "file_extension": ".py",
   "mimetype": "text/x-python",
   "name": "python",
   "nbconvert_exporter": "python",
   "pygments_lexer": "ipython3",
   "version": "3.9.12"
  }
 },
 "nbformat": 4,
 "nbformat_minor": 5
}
