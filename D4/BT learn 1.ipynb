{
 "cells": [
  {
   "cell_type": "code",
   "execution_count": 1,
   "id": "cde728a5",
   "metadata": {},
   "outputs": [],
   "source": [
    "import turtle\n",
    "t = turtle.Turtle()"
   ]
  },
  {
   "cell_type": "code",
   "execution_count": 3,
   "id": "564b729b",
   "metadata": {},
   "outputs": [],
   "source": [
    "\n",
    "t.pensize(5)\n",
    "t.pencolor(\"red\")\n",
    "t.fillcolor(\"blue\")\n",
    "t.begin_fill()\n",
    "t.circle(100)\n",
    "t.end_fill()"
   ]
  },
  {
   "cell_type": "code",
   "execution_count": 2,
   "id": "fb7cf17a",
   "metadata": {},
   "outputs": [],
   "source": [
    "t.pensize(5)\n",
    "t.pencolor(\"blue\")\n",
    "t.goto(-40,120)\n",
    "t.fillcolor(\"red\")\n",
    "t.begin_fill()\n",
    "t.circle(150)\n",
    "t.end_fill()"
   ]
  },
  {
   "cell_type": "code",
   "execution_count": null,
   "id": "e33af103",
   "metadata": {},
   "outputs": [],
   "source": []
  }
 ],
 "metadata": {
  "kernelspec": {
   "display_name": "Python 3 (ipykernel)",
   "language": "python",
   "name": "python3"
  },
  "language_info": {
   "codemirror_mode": {
    "name": "ipython",
    "version": 3
   },
   "file_extension": ".py",
   "mimetype": "text/x-python",
   "name": "python",
   "nbconvert_exporter": "python",
   "pygments_lexer": "ipython3",
   "version": "3.9.12"
  }
 },
 "nbformat": 4,
 "nbformat_minor": 5
}
