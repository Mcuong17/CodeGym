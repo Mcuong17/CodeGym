{
 "cells": [
  {
   "cell_type": "markdown",
   "id": "5bc93fb0",
   "metadata": {},
   "source": [
    "# Thực hành nhập xuất dữ liệu & chuỗi\n",
    "\n",
    "### Bài tập tra cứu lệnh\n",
    "\n",
    "Nhập vào một chuỗi, kiểm tra xem chuỗi đó có ký tự nào là chữ in hoa hay không, nếu có thì in True, không có thì in False"
   ]
  },
  {
   "cell_type": "code",
   "execution_count": 23,
   "id": "4b3df2ba",
   "metadata": {},
   "outputs": [
    {
     "name": "stdout",
     "output_type": "stream",
     "text": [
      "Nhập chuỗi: a\n",
      "False\n"
     ]
    }
   ],
   "source": [
    "a = input(\"Nhập chuỗi: \")\n",
    "print(not a.islower())\n",
    "\n"
   ]
  },
  {
   "cell_type": "markdown",
   "id": "e14eae7c",
   "metadata": {},
   "source": [
    "Nhập vào một chuỗi, kiểm tra xem chuỗi đó có ký tự nào là chữ in thường hay không, nếu có thì in True, không có thì in False"
   ]
  },
  {
   "cell_type": "code",
   "execution_count": 3,
   "id": "ab00180c",
   "metadata": {},
   "outputs": [
    {
     "name": "stdout",
     "output_type": "stream",
     "text": [
      "Nhập chuỗi: ABc\n",
      "True\n"
     ]
    }
   ],
   "source": [
    "a = input(\"Nhập chuỗi: \")\n",
    "print(not a.isupper())"
   ]
  },
  {
   "cell_type": "markdown",
   "id": "eab86ecf",
   "metadata": {},
   "source": [
    "Nhập vào một chuỗi a và chuỗi b, tìm vị trí đầu tiên xuất hiện chuỗi b trong chuỗi a"
   ]
  },
  {
   "cell_type": "code",
   "execution_count": 6,
   "id": "051eb4af",
   "metadata": {},
   "outputs": [
    {
     "name": "stdout",
     "output_type": "stream",
     "text": [
      "Nhập chuỗi a: abcdgsht\n",
      "Nhập chuỗi b: g\n",
      "4\n"
     ]
    }
   ],
   "source": [
    "a = input(\"Nhập chuỗi a: \")\n",
    "b = input(\"Nhập chuỗi b: \")\n",
    "print(str.find(a,b))"
   ]
  },
  {
   "cell_type": "markdown",
   "id": "9239bc4e",
   "metadata": {},
   "source": [
    "Nhập vào một chuỗi a, hãy xóa từ đầu tiên trong chuỗi a, rồi in ra màn hình"
   ]
  },
  {
   "cell_type": "code",
   "execution_count": 10,
   "id": "90967cd9",
   "metadata": {},
   "outputs": [
    {
     "name": "stdout",
     "output_type": "stream",
     "text": [
      "Vị tí khoảng trắng đầu tiên là:  -1\n",
      "\n"
     ]
    }
   ],
   "source": [
    "tim_khoang_trang = a.find(\" \")\n",
    "print(\"Vị tí khoảng trắng đầu tiên là: \",tim_khoang_trang)\n",
    "bo_ky_tu_dau = a[tim_khoang_trang:+1]\n",
    "print(bo_ky_tu_dau)"
   ]
  },
  {
   "cell_type": "markdown",
   "id": "05b74fb4",
   "metadata": {},
   "source": [
    "### Bài 1\n",
    "\n",
    "Nhập vào một chuỗi, đếm xem có bao nhiêu từ trong chuỗi kết thúc bằng chữ n"
   ]
  },
  {
   "cell_type": "code",
   "execution_count": null,
   "id": "d126675c",
   "metadata": {},
   "outputs": [],
   "source": [
    "chuoi = input(\"Nhập chuỗi: \")\n",
    "a = chuoi.count(\"n\")+ chuoi.count(\"n,\")+chuoi.count(\"n.\")+chuoi.count(\"n!\")+chuoi.count(\"n?\")+chuoi.count(\"n \")"
   ]
  },
  {
   "cell_type": "markdown",
   "id": "53a78d35",
   "metadata": {},
   "source": [
    "### Bài 2\n",
    "\n",
    "Nhập vào một chuỗi, kiểm tra xem chuỗi đó có ký tự hoa hoặc ký tự thường hay không."
   ]
  },
  {
   "cell_type": "code",
   "execution_count": null,
   "id": "f5be8c39",
   "metadata": {},
   "outputs": [],
   "source": [
    "chuoi = input(\"Nhập chuỗi: \")\n",
    "print(\"chuoi\" not a.islower())\n",
    "print( \"chuoi\" not a.isupper())"
   ]
  },
  {
   "cell_type": "markdown",
   "id": "64ca662e",
   "metadata": {},
   "source": [
    "### Bài 3\n",
    "\n",
    "Nhập vào một chuỗi, kiểm tra tính đối xứng của chuỗi đó"
   ]
  },
  {
   "cell_type": "code",
   "execution_count": 18,
   "id": "749f4136",
   "metadata": {},
   "outputs": [
    {
     "name": "stdout",
     "output_type": "stream",
     "text": [
      "Nhập chuỗi: abcdcba\n",
      "True\n"
     ]
    }
   ],
   "source": [
    "a = input(\"Nhập chuỗi: \")\n",
    "k = -1\n",
    "a_nguoc = \"\"\n",
    "for i in range(len(a)):## tạo chuỗi ngược\n",
    "    a_nguoc +=a[k]\n",
    "    k-=1\n",
    "print(a_nguoc == a)"
   ]
  },
  {
   "cell_type": "markdown",
   "id": "85dd8fef",
   "metadata": {},
   "source": [
    "### Bài 4\n",
    "\n",
    "Nhập vào một chuỗi, in ra các ký tự trong chuỗi và nếu là ký tự hoa thì in kèm True, ký tự thường thì in kèm False"
   ]
  },
  {
   "cell_type": "code",
   "execution_count": 24,
   "id": "0d099247",
   "metadata": {},
   "outputs": [
    {
     "name": "stdout",
     "output_type": "stream",
     "text": [
      "Nhập chuỗi: AbgdGJh\n",
      "A True\n",
      "b False\n",
      "g False\n",
      "d False\n",
      "G True\n",
      "J True\n",
      "h False\n"
     ]
    }
   ],
   "source": [
    "a = input(\"Nhập chuỗi: \")\n",
    "k = 0\n",
    "for i in range(len(a)):\n",
    "    print(a[k],a[k].isupper())\n",
    "    k+=1\n"
   ]
  },
  {
   "cell_type": "markdown",
   "id": "1373dc74",
   "metadata": {},
   "source": [
    "### Bài 5\n",
    "\n",
    "Nhập vào một chuỗi, tìm các ký tự chỉ xuất hiện một lần trong chuỗi (nếu xuất hiện 1 lần in true, xuất hiện nhiều lần in false)\n",
    "\n",
    "Ví dụ:\n",
    "\n",
    "Nhập chuỗi: \"ABAbc\"\n",
    "\n",
    "In:\n",
    "\n",
    "A: False\n",
    "\n",
    "B: True\n",
    "\n",
    "A: False\n",
    "\n",
    "b: True\n",
    "\n",
    "c: True"
   ]
  },
  {
   "cell_type": "code",
   "execution_count": null,
   "id": "a93bc53d",
   "metadata": {},
   "outputs": [],
   "source": [
    "a = input(\"Nhập chuỗi: \")\n",
    "k = 0\n",
    "for i in range(len(a)):\n",
    "    print(a[k],a[k].isupper())\n",
    "    k+=1"
   ]
  },
  {
   "cell_type": "markdown",
   "id": "69bebf4c",
   "metadata": {},
   "source": [
    "### Bài 6\n",
    "\n",
    "Nhập vào một chuỗi, kiểm tra trong chuỗi có con số hay không, nếu có in True, không có in False"
   ]
  },
  {
   "cell_type": "code",
   "execution_count": 31,
   "id": "1b4eab4f",
   "metadata": {},
   "outputs": [
    {
     "name": "stdout",
     "output_type": "stream",
     "text": [
      "Nhập a: hdhdh\n",
      "False\n"
     ]
    }
   ],
   "source": [
    "a = input('Nhập a: ')\n",
    "k = 0\n",
    "\n",
    "flag = False\n",
    "\n",
    "for i in range(len(a)):\n",
    "    flag = flag or a[k].isnumeric()\n",
    "    k += 1\n",
    "print(flag)\n",
    "    \n"
   ]
  },
  {
   "cell_type": "code",
   "execution_count": 32,
   "id": "78d28a95",
   "metadata": {},
   "outputs": [
    {
     "name": "stdout",
     "output_type": "stream",
     "text": [
      "Nhập a: 34aa\n",
      "True\n"
     ]
    }
   ],
   "source": [
    "a = input('Nhập a: ')\n",
    "k = 0\n",
    "b = 0\n",
    "for i in range(10):\n",
    "    b += a.count(str(k))\n",
    "    k+=1\n",
    "print(b != 0)"
   ]
  },
  {
   "cell_type": "markdown",
   "id": "1e51403c",
   "metadata": {},
   "source": [
    "### Bài 7\n",
    "\n",
    "Nhập vào một chuỗi, tách những con số có trong chuỗi ra rồi tính tổng của chúng\n",
    "\n",
    "In tổng lên màn hình"
   ]
  },
  {
   "cell_type": "code",
   "execution_count": null,
   "id": "a34e349d",
   "metadata": {},
   "outputs": [],
   "source": [
    "a = input('Nhập a: ')\n",
    "k = 0\n",
    "b = 0\n",
    "for i in range(10):\n",
    "    b += k*a.count(str(k))\n",
    "    k+=1\n",
    "print(b != 0)"
   ]
  },
  {
   "cell_type": "markdown",
   "id": "e951779d",
   "metadata": {},
   "source": [
    "### Bài 8\n",
    "\n",
    "Nhập vào một chuỗi, đảo ngược chuỗi đã nhập rồi in ra màn hình"
   ]
  },
  {
   "cell_type": "code",
   "execution_count": 35,
   "id": "9305f0f1",
   "metadata": {},
   "outputs": [
    {
     "name": "stdout",
     "output_type": "stream",
     "text": [
      "Nhập chuỗi: abc\n",
      "abcdcbacba\n"
     ]
    }
   ],
   "source": [
    "a = input(\"Nhập chuỗi: \")\n",
    "\n",
    "\n",
    "a_nguoc +=a[::-1]\n",
    "    \n",
    "print(a_nguoc)"
   ]
  },
  {
   "cell_type": "markdown",
   "id": "04194b5c",
   "metadata": {},
   "source": [
    "### Bài 9\n",
    "\n",
    "Nhập vào một chuỗi, kiểm tra xem mỗi từ trong chuỗi có được viết hoa chữ cái đầu hay không, nếu tất cả đều được viết hoa thì in ra True, còn không thì in ra False\n",
    "\n",
    "Trong trường hợp là False, hãy viết hoa tất cả các chữ cái đầu của mỗi từ rồi in lên màn hình\n",
    "\n",
    "Cách làm thông thường:"
   ]
  },
  {
   "cell_type": "code",
   "execution_count": null,
   "id": "9f947c7d",
   "metadata": {},
   "outputs": [],
   "source": []
  },
  {
   "cell_type": "markdown",
   "id": "f43e32af",
   "metadata": {},
   "source": [
    "Cách sử dụng lệnh có sẵn:"
   ]
  },
  {
   "cell_type": "code",
   "execution_count": 36,
   "id": "714f1412",
   "metadata": {},
   "outputs": [
    {
     "name": "stdout",
     "output_type": "stream",
     "text": [
      "Nhập chuỗi: Abcf\n",
      "True\n",
      "Abcf\n"
     ]
    }
   ],
   "source": [
    "a = input(\"Nhập chuỗi: \")\n",
    "print(a.istitle())\n",
    "print(a.title())"
   ]
  },
  {
   "cell_type": "code",
   "execution_count": null,
   "id": "204555f1",
   "metadata": {},
   "outputs": [],
   "source": []
  }
 ],
 "metadata": {
  "kernelspec": {
   "display_name": "Python 3 (ipykernel)",
   "language": "python",
   "name": "python3"
  },
  "language_info": {
   "codemirror_mode": {
    "name": "ipython",
    "version": 3
   },
   "file_extension": ".py",
   "mimetype": "text/x-python",
   "name": "python",
   "nbconvert_exporter": "python",
   "pygments_lexer": "ipython3",
   "version": "3.9.12"
  }
 },
 "nbformat": 4,
 "nbformat_minor": 5
}
