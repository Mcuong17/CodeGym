{
 "cells": [
  {
   "cell_type": "code",
   "execution_count": 3,
   "id": "74c77054",
   "metadata": {},
   "outputs": [
    {
     "name": "stdout",
     "output_type": "stream",
     "text": [
      "Nhập ngày trong tuần4\n",
      "Wednesday\n",
      "Nhập sai ngày\n"
     ]
    }
   ],
   "source": [
    "a = int(input(\"Nhập ngày trong tuần\"))\n",
    "if 1 < a <= 8:\n",
    "    if a == 2:\n",
    "        print(\"Monday\")\n",
    "    elif a == 3:\n",
    "        print(\"Tuesday\")\n",
    "    elif a == 4:\n",
    "        print(\"Wednesday\")\n",
    "    elif a == 5:\n",
    "        print(\"Thursday\")\n",
    "    elif a == 6:\n",
    "        print(\"Friday\")\n",
    "    elif a == 7:\n",
    "        print(\"Saturday\")\n",
    "    elif a == 8:\n",
    "        print(\"Sunday\")\n",
    "print(\"Nhập sai ngày\")\n",
    "    "
   ]
  }
 ],
 "metadata": {
  "kernelspec": {
   "display_name": "Python 3 (ipykernel)",
   "language": "python",
   "name": "python3"
  },
  "language_info": {
   "codemirror_mode": {
    "name": "ipython",
    "version": 3
   },
   "file_extension": ".py",
   "mimetype": "text/x-python",
   "name": "python",
   "nbconvert_exporter": "python",
   "pygments_lexer": "ipython3",
   "version": "3.9.12"
  }
 },
 "nbformat": 4,
 "nbformat_minor": 5
}
