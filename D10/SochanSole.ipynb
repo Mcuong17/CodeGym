{
 "cells": [
  {
   "cell_type": "code",
   "execution_count": 5,
   "id": "fb37cb0c",
   "metadata": {},
   "outputs": [
    {
     "name": "stdout",
     "output_type": "stream",
     "text": [
      "Nhập a: 34\n",
      "34 là số chẵn\n"
     ]
    }
   ],
   "source": [
    "a = int(input(\"Nhập a: \"))\n",
    "if a % 2 == 0:\n",
    "    print(a,\"là số chẵn\")\n",
    "elif a % 2 == 1:\n",
    "    print(a,\"là số lẻ\")\n",
    "else:\n",
    "    print(\"Số nhập và không đúng\")"
   ]
  },
  {
   "cell_type": "code",
   "execution_count": null,
   "id": "ce55ecb6",
   "metadata": {},
   "outputs": [],
   "source": []
  }
 ],
 "metadata": {
  "kernelspec": {
   "display_name": "Python 3 (ipykernel)",
   "language": "python",
   "name": "python3"
  },
  "language_info": {
   "codemirror_mode": {
    "name": "ipython",
    "version": 3
   },
   "file_extension": ".py",
   "mimetype": "text/x-python",
   "name": "python",
   "nbconvert_exporter": "python",
   "pygments_lexer": "ipython3",
   "version": "3.9.12"
  }
 },
 "nbformat": 4,
 "nbformat_minor": 5
}
