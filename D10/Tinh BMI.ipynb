{
 "cells": [
  {
   "cell_type": "code",
   "execution_count": 6,
   "id": "5c2acbb0",
   "metadata": {},
   "outputs": [
    {
     "name": "stdout",
     "output_type": "stream",
     "text": [
      "Nhập chiều cao: 165\n",
      "Nhập cân nặng: 65\n",
      "Chỉ số BMI của bạn là: 2.387511478420569e-07\n",
      "Gầy cấp độ III\n"
     ]
    }
   ],
   "source": [
    "chieucao = int(input(\"Nhập chiều cao: \"))\n",
    "cannang = int(input(\"Nhập cân nặng: \"))\n",
    "BMI = (cannang)/((chieucao*100)**2)\n",
    "print(\"Chỉ số BMI của bạn là:\",BMI)\n",
    "if BMI > 0:\n",
    "    if BMI < 16:\n",
    "        print(\"Gầy cấp độ III\")\n",
    "    elif 16 <= BMI < 17:\n",
    "        print(\"Gầy cấp độ II\")\n",
    "    elif 17<= BMI < 18.5:\n",
    "        print(\"Gầy cấp độ I\")\n",
    "    elif 18.5 <= BMI < 25:\n",
    "        print(\"Bình thường\")\n",
    "    elif 25 <= BMI < 30:\n",
    "        print(\"Thừa cân\")\n",
    "    elif 30 <= BMI < 35:\n",
    "        print(\"Béo phì cấp độ I\")\n",
    "    elif 35 <= BMI < 40:\n",
    "        print(\"Béo phì cấp độ II\")\n",
    "    elif BMI >= 40:\n",
    "        print(\"Béo phì cấp độ III\")\n",
    "else:\n",
    "    print(\"Số cân nặng hoặc chiều cao không hợp lệ\")"
   ]
  },
  {
   "cell_type": "code",
   "execution_count": null,
   "id": "1ee5c465",
   "metadata": {},
   "outputs": [],
   "source": []
  }
 ],
 "metadata": {
  "kernelspec": {
   "display_name": "Python 3 (ipykernel)",
   "language": "python",
   "name": "python3"
  },
  "language_info": {
   "codemirror_mode": {
    "name": "ipython",
    "version": 3
   },
   "file_extension": ".py",
   "mimetype": "text/x-python",
   "name": "python",
   "nbconvert_exporter": "python",
   "pygments_lexer": "ipython3",
   "version": "3.9.12"
  }
 },
 "nbformat": 4,
 "nbformat_minor": 5
}
