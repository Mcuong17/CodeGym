{
 "cells": [
  {
   "cell_type": "code",
   "execution_count": 1,
   "id": "c2d70183",
   "metadata": {},
   "outputs": [],
   "source": [
    "import math"
   ]
  },
  {
   "cell_type": "code",
   "execution_count": null,
   "id": "357cfd91",
   "metadata": {},
   "outputs": [
    {
     "name": "stdout",
     "output_type": "stream",
     "text": [
      "Nhập cạnh a: 3.2\n",
      "Nhập cạnh b: 5.6\n"
     ]
    }
   ],
   "source": [
    "a = float(input(\"Nhập cạnh a: \"))\n",
    "b = float(input(\"Nhập cạnh b: \"))\n",
    "c = float(input(\"Nhập cạnh c: \"))\n",
    "S = (a+b+c)/3\n",
    "area = math.sqrt(S*(S-a)*(S-b)*(S-c))\n",
    "print(\"Chu vi là: \",S)\n",
    "print(\"Diện tích hình tam giác: \",area)"
   ]
  }
 ],
 "metadata": {
  "kernelspec": {
   "display_name": "Python 3 (ipykernel)",
   "language": "python",
   "name": "python3"
  },
  "language_info": {
   "codemirror_mode": {
    "name": "ipython",
    "version": 3
   },
   "file_extension": ".py",
   "mimetype": "text/x-python",
   "name": "python",
   "nbconvert_exporter": "python",
   "pygments_lexer": "ipython3",
   "version": "3.9.12"
  }
 },
 "nbformat": 4,
 "nbformat_minor": 5
}
