{
 "cells": [
  {
   "cell_type": "code",
   "execution_count": 1,
   "id": "5bbd18f4",
   "metadata": {},
   "outputs": [
    {
     "name": "stdout",
     "output_type": "stream",
     "text": [
      "Nhập vào độ C10\n",
      "Nhập vào độ F23\n"
     ]
    }
   ],
   "source": [
    "c = int(input(\"Nhập vào độ C\"))\n",
    "f = int(input(\"Nhập vào độ F\"))\n",
    "f = (9*(int(c))/5)+32\n",
    "Print(\"Độ F sau khi được chuyển đổi: \",)"
   ]
  }
 ],
 "metadata": {
  "kernelspec": {
   "display_name": "Python 3 (ipykernel)",
   "language": "python",
   "name": "python3"
  },
  "language_info": {
   "codemirror_mode": {
    "name": "ipython",
    "version": 3
   },
   "file_extension": ".py",
   "mimetype": "text/x-python",
   "name": "python",
   "nbconvert_exporter": "python",
   "pygments_lexer": "ipython3",
   "version": "3.9.12"
  }
 },
 "nbformat": 4,
 "nbformat_minor": 5
}
