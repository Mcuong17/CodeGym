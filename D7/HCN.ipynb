{
 "cells": [
  {
   "cell_type": "code",
   "execution_count": 1,
   "id": "f41652e7",
   "metadata": {},
   "outputs": [
    {
     "name": "stdout",
     "output_type": "stream",
     "text": [
      "Nhập màu hoặc mã màu: orange\n",
      "Nhập vào chiều dài: 40\n",
      "Nhập vào chiều rộng:80\n",
      "Chu vi HCN là:  240.0\n",
      "Diện tích HCN là:  3200.0\n"
     ]
    }
   ],
   "source": [
    "import turtle\n",
    "t = turtle.Turtle()\n",
    "color = input(\"Nhập màu hoặc mã màu: \")\n",
    "h = float(input(\"Nhập vào chiều dài: \"))\n",
    "w = float(input(\"Nhập vào chiều rộng:\"))\n",
    "t.color(color)\n",
    "t.begin_fill()\n",
    "for i in range(3):\n",
    "    t.fd(w)\n",
    "    t.fd(h)\n",
    "    t.rt(90)\n",
    "t.end_fill()\n",
    "C = (h+w)*2\n",
    "S = h*w\n",
    "print(\"Chu vi HCN là: \",C)\n",
    "print(\"Diện tích HCN là: \",S)"
   ]
  },
  {
   "cell_type": "code",
   "execution_count": null,
   "id": "6572f1e9",
   "metadata": {},
   "outputs": [],
   "source": []
  }
 ],
 "metadata": {
  "kernelspec": {
   "display_name": "Python 3 (ipykernel)",
   "language": "python",
   "name": "python3"
  },
  "language_info": {
   "codemirror_mode": {
    "name": "ipython",
    "version": 3
   },
   "file_extension": ".py",
   "mimetype": "text/x-python",
   "name": "python",
   "nbconvert_exporter": "python",
   "pygments_lexer": "ipython3",
   "version": "3.9.12"
  }
 },
 "nbformat": 4,
 "nbformat_minor": 5
}
